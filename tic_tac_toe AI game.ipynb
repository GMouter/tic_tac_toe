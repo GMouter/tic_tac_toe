{
 "cells": [
  {
   "cell_type": "code",
   "execution_count": null,
   "metadata": {},
   "outputs": [],
   "source": [
    "from tic_tac_toe import *\n",
    "\n",
    "my_board = [\n",
    "\t[\"1\", \"2\", \"3\"],\n",
    "\t[\"4\", \"5\", \"6\"],\n",
    "\t[\"7\", \"8\", \"9\"]\n",
    "]\n",
    "\n",
    "\n",
    "while not game_is_over(my_board):\n",
    "  select_space(my_board, minimax(my_board, True)[1], \"X\")\n",
    "  print_board(my_board)\n",
    "  if not game_is_over(my_board):\n",
    "    select_space(my_board, minimax(my_board, False)[1], \"O\")\n",
    "    print_board(my_board)  "
   ]
  }
 ],
 "metadata": {
  "kernelspec": {
   "display_name": "Python 3",
   "language": "python",
   "name": "python3"
  },
  "language_info": {
   "codemirror_mode": {
    "name": "ipython",
    "version": 3
   },
   "file_extension": ".py",
   "mimetype": "text/x-python",
   "name": "python",
   "nbconvert_exporter": "python",
   "pygments_lexer": "ipython3",
   "version": "3.8.5"
  }
 },
 "nbformat": 4,
 "nbformat_minor": 4
}
